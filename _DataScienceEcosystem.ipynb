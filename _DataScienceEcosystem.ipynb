{
 "cells": [
  {
   "cell_type": "code",
   "execution_count": null,
   "id": "baac0c3f-e751-4d5f-b0b4-bcb508a57582",
   "metadata": {},
   "outputs": [],
   "source": [
    "# Data Science Tools and Ecosystem"
   ]
  },
  {
   "cell_type": "code",
   "execution_count": null,
   "id": "ab7c1405-9993-48a0-88e5-5b8090ec4c64",
   "metadata": {},
   "outputs": [],
   "source": [
    "in this notebook you will learn about data science fundamentals"
   ]
  },
  {
   "cell_type": "code",
   "execution_count": null,
   "id": "a9f205b9-a524-47a7-b732-49609ef6e912",
   "metadata": {},
   "outputs": [],
   "source": [
    "Some of the popular languages that Data Scientists use are:\n",
    "\n",
    "1. Python  \n",
    "2. R  \n",
    "3. SQL  \n",
    "4. Java  \n",
    "5. Julia\n",
    "\n"
   ]
  },
  {
   "cell_type": "code",
   "execution_count": null,
   "id": "596cf39c-7807-44b0-b2ef-fb3b27a2be2f",
   "metadata": {},
   "outputs": [],
   "source": [
    "Some of the commonly used libraries used by Data Scientists include:\n",
    "\n",
    "1. Pandas  \n",
    "2. NumPy  \n",
    "3. Matplotlib  \n",
    "4. Scikit-learn  \n",
    "5. TensorFlow"
   ]
  },
  {
   "cell_type": "code",
   "execution_count": null,
   "id": "d3e753ba-90a5-4af9-8bb1-a2b3d35e54a4",
   "metadata": {},
   "outputs": [],
   "source": [
    "| Data Science Tools        |\n",
    "|---------------------------|\n",
    "| Jupyter Notebook          |\n",
    "| RStudio                   |\n",
    "| Visual Studio Code (VS Code) |"
   ]
  },
  {
   "cell_type": "code",
   "execution_count": null,
   "id": "84a256cf-e172-4799-972e-7dbbdcfdf8cf",
   "metadata": {},
   "outputs": [],
   "source": [
    "### Below are a few examples of evaluating arithmetic expressions in Python"
   ]
  },
  {
   "cell_type": "code",
   "execution_count": 1,
   "id": "df3f3e06-d49c-4ef3-8cdf-1fbd199bcef4",
   "metadata": {},
   "outputs": [
    {
     "data": {
      "text/plain": [
       "17"
      ]
     },
     "execution_count": 1,
     "metadata": {},
     "output_type": "execute_result"
    }
   ],
   "source": [
    "# This is a simple arithmetic expression to multiply then add integers\n",
    "(3 * 4) + 5"
   ]
  },
  {
   "cell_type": "code",
   "execution_count": 2,
   "id": "5a8b06ef-1198-4195-b013-b06c216c0297",
   "metadata": {},
   "outputs": [
    {
     "data": {
      "text/plain": [
       "3.3333333333333335"
      ]
     },
     "execution_count": 2,
     "metadata": {},
     "output_type": "execute_result"
    }
   ],
   "source": [
    "# This will convert 200 minutes to hours by dividing by 60\n",
    "200 / 60"
   ]
  },
  {
   "cell_type": "code",
   "execution_count": null,
   "id": "0838b54c-1de0-4983-a825-806787788085",
   "metadata": {},
   "outputs": [],
   "source": [
    "**Objectives:**\n",
    "\n",
    "- List popular languages for Data Science  \n",
    "- Identify commonly used libraries in Data Science  \n",
    "- Explore open-source development environments for Data Science  \n",
    "- Perform basic arithmetic expressions using Python  \n",
    "- Convert units using simple Python expressions"
   ]
  },
  {
   "cell_type": "code",
   "execution_count": null,
   "id": "94c6c680-c817-4254-9afd-3418e60a9fcd",
   "metadata": {},
   "outputs": [],
   "source": [
    "## Author\n",
    "\n",
    "Utkarsh Shukla"
   ]
  },
  {
   "cell_type": "code",
   "execution_count": null,
   "id": "72853c63-f734-4a67-b4d8-16e7954f0e88",
   "metadata": {},
   "outputs": [],
   "source": []
  }
 ],
 "metadata": {
  "kernelspec": {
   "display_name": "Python 3 (ipykernel)",
   "language": "python",
   "name": "python3"
  },
  "language_info": {
   "codemirror_mode": {
    "name": "ipython",
    "version": 3
   },
   "file_extension": ".py",
   "mimetype": "text/x-python",
   "name": "python",
   "nbconvert_exporter": "python",
   "pygments_lexer": "ipython3",
   "version": "3.12.8"
  }
 },
 "nbformat": 4,
 "nbformat_minor": 5
}
