This is the first data science jupyter project 
